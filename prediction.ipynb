{
 "cells": [
  {
   "cell_type": "code",
   "execution_count": 1,
   "id": "e066dbbe-e013-4e0c-98e2-a29aab8099b7",
   "metadata": {},
   "outputs": [],
   "source": [
    "import pandas as pd"
   ]
  },
  {
   "cell_type": "code",
   "execution_count": 2,
   "id": "927da4d9-ddfa-456a-aa2a-4e31575e1a2f",
   "metadata": {},
   "outputs": [],
   "source": [
    "train_df = pd.read_csv('./data./train_practice.csv')\n",
    "test_df = pd.read_csv('./data./test_practice.csv')"
   ]
  },
  {
   "cell_type": "code",
   "execution_count": 3,
   "id": "a135d00d-352c-4ddb-b7fe-72cba2fd026b",
   "metadata": {},
   "outputs": [
    {
     "data": {
      "text/plain": [
       "RangeIndex(start=0, stop=5000, step=1)"
      ]
     },
     "execution_count": 3,
     "metadata": {},
     "output_type": "execute_result"
    }
   ],
   "source": [
    "train_df.index"
   ]
  },
  {
   "cell_type": "code",
   "execution_count": 4,
   "id": "ecdb4311-52e5-4f28-a204-66742b8fd410",
   "metadata": {},
   "outputs": [
    {
     "name": "stdout",
     "output_type": "stream",
     "text": [
      "<class 'pandas.core.frame.DataFrame'>\n",
      "RangeIndex: 5000 entries, 0 to 4999\n",
      "Data columns (total 19 columns):\n",
      " #   Column      Non-Null Count  Dtype  \n",
      "---  ------      --------------  -----  \n",
      " 0   Unnamed: 0  5000 non-null   int64  \n",
      " 1   ID          5000 non-null   object \n",
      " 2   나이          5000 non-null   int64  \n",
      " 3   키(cm)       5000 non-null   int64  \n",
      " 4   몸무게(kg)     5000 non-null   int64  \n",
      " 5   BMI         4499 non-null   float64\n",
      " 6   시력          5000 non-null   float64\n",
      " 7   충치          5000 non-null   int64  \n",
      " 8   공복 혈당       5000 non-null   int64  \n",
      " 9   혈압          5000 non-null   int64  \n",
      " 10  중성 지방       5000 non-null   int64  \n",
      " 11  혈청 크레아티닌    5000 non-null   float64\n",
      " 12  콜레스테롤       5000 non-null   int64  \n",
      " 13  고밀도지단백      5000 non-null   int64  \n",
      " 14  저밀도지단백      4525 non-null   float64\n",
      " 15  헤모글로빈       5000 non-null   float64\n",
      " 16  요 단백        5000 non-null   int64  \n",
      " 17  간 효소율       5000 non-null   float64\n",
      " 18  label       5000 non-null   int64  \n",
      "dtypes: float64(6), int64(12), object(1)\n",
      "memory usage: 742.3+ KB\n"
     ]
    }
   ],
   "source": [
    "train_df.info()"
   ]
  },
  {
   "cell_type": "code",
   "execution_count": 5,
   "id": "1402271d-dc24-4c48-960a-d94c64db6904",
   "metadata": {},
   "outputs": [
    {
     "data": {
      "text/html": [
       "<div>\n",
       "<style scoped>\n",
       "    .dataframe tbody tr th:only-of-type {\n",
       "        vertical-align: middle;\n",
       "    }\n",
       "\n",
       "    .dataframe tbody tr th {\n",
       "        vertical-align: top;\n",
       "    }\n",
       "\n",
       "    .dataframe thead th {\n",
       "        text-align: right;\n",
       "    }\n",
       "</style>\n",
       "<table border=\"1\" class=\"dataframe\">\n",
       "  <thead>\n",
       "    <tr style=\"text-align: right;\">\n",
       "      <th></th>\n",
       "      <th>Unnamed: 0</th>\n",
       "      <th>ID</th>\n",
       "      <th>나이</th>\n",
       "      <th>키(cm)</th>\n",
       "      <th>몸무게(kg)</th>\n",
       "      <th>BMI</th>\n",
       "      <th>시력</th>\n",
       "      <th>충치</th>\n",
       "      <th>공복 혈당</th>\n",
       "      <th>혈압</th>\n",
       "      <th>중성 지방</th>\n",
       "      <th>혈청 크레아티닌</th>\n",
       "      <th>콜레스테롤</th>\n",
       "      <th>고밀도지단백</th>\n",
       "      <th>저밀도지단백</th>\n",
       "      <th>헤모글로빈</th>\n",
       "      <th>요 단백</th>\n",
       "      <th>간 효소율</th>\n",
       "      <th>label</th>\n",
       "    </tr>\n",
       "  </thead>\n",
       "  <tbody>\n",
       "    <tr>\n",
       "      <th>0</th>\n",
       "      <td>738</td>\n",
       "      <td>TRAIN_0738</td>\n",
       "      <td>30</td>\n",
       "      <td>175</td>\n",
       "      <td>90</td>\n",
       "      <td>29.39</td>\n",
       "      <td>1.2</td>\n",
       "      <td>0</td>\n",
       "      <td>85</td>\n",
       "      <td>46</td>\n",
       "      <td>75</td>\n",
       "      <td>0.9</td>\n",
       "      <td>200</td>\n",
       "      <td>37</td>\n",
       "      <td>NaN</td>\n",
       "      <td>16.3</td>\n",
       "      <td>1</td>\n",
       "      <td>0.81</td>\n",
       "      <td>1</td>\n",
       "    </tr>\n",
       "    <tr>\n",
       "      <th>1</th>\n",
       "      <td>2318</td>\n",
       "      <td>TRAIN_2318</td>\n",
       "      <td>60</td>\n",
       "      <td>150</td>\n",
       "      <td>50</td>\n",
       "      <td>NaN</td>\n",
       "      <td>0.6</td>\n",
       "      <td>0</td>\n",
       "      <td>86</td>\n",
       "      <td>46</td>\n",
       "      <td>74</td>\n",
       "      <td>0.8</td>\n",
       "      <td>235</td>\n",
       "      <td>55</td>\n",
       "      <td>165.0</td>\n",
       "      <td>13.9</td>\n",
       "      <td>1</td>\n",
       "      <td>2.27</td>\n",
       "      <td>0</td>\n",
       "    </tr>\n",
       "    <tr>\n",
       "      <th>2</th>\n",
       "      <td>2743</td>\n",
       "      <td>TRAIN_2743</td>\n",
       "      <td>40</td>\n",
       "      <td>150</td>\n",
       "      <td>45</td>\n",
       "      <td>20.00</td>\n",
       "      <td>1.2</td>\n",
       "      <td>0</td>\n",
       "      <td>71</td>\n",
       "      <td>40</td>\n",
       "      <td>64</td>\n",
       "      <td>0.7</td>\n",
       "      <td>233</td>\n",
       "      <td>65</td>\n",
       "      <td>155.0</td>\n",
       "      <td>14.0</td>\n",
       "      <td>1</td>\n",
       "      <td>1.59</td>\n",
       "      <td>0</td>\n",
       "    </tr>\n",
       "    <tr>\n",
       "      <th>3</th>\n",
       "      <td>3725</td>\n",
       "      <td>TRAIN_3725</td>\n",
       "      <td>30</td>\n",
       "      <td>170</td>\n",
       "      <td>70</td>\n",
       "      <td>24.22</td>\n",
       "      <td>1.2</td>\n",
       "      <td>1</td>\n",
       "      <td>98</td>\n",
       "      <td>50</td>\n",
       "      <td>111</td>\n",
       "      <td>1.2</td>\n",
       "      <td>208</td>\n",
       "      <td>66</td>\n",
       "      <td>119.0</td>\n",
       "      <td>15.4</td>\n",
       "      <td>1</td>\n",
       "      <td>0.75</td>\n",
       "      <td>0</td>\n",
       "    </tr>\n",
       "    <tr>\n",
       "      <th>4</th>\n",
       "      <td>4544</td>\n",
       "      <td>TRAIN_4544</td>\n",
       "      <td>70</td>\n",
       "      <td>165</td>\n",
       "      <td>70</td>\n",
       "      <td>NaN</td>\n",
       "      <td>0.9</td>\n",
       "      <td>1</td>\n",
       "      <td>103</td>\n",
       "      <td>53</td>\n",
       "      <td>171</td>\n",
       "      <td>1.0</td>\n",
       "      <td>217</td>\n",
       "      <td>55</td>\n",
       "      <td>128.0</td>\n",
       "      <td>15.6</td>\n",
       "      <td>1</td>\n",
       "      <td>0.69</td>\n",
       "      <td>0</td>\n",
       "    </tr>\n",
       "  </tbody>\n",
       "</table>\n",
       "</div>"
      ],
      "text/plain": [
       "   Unnamed: 0          ID  나이  키(cm)  몸무게(kg)    BMI   시력  충치  공복 혈당  혈압  \\\n",
       "0         738  TRAIN_0738  30    175       90  29.39  1.2   0     85  46   \n",
       "1        2318  TRAIN_2318  60    150       50    NaN  0.6   0     86  46   \n",
       "2        2743  TRAIN_2743  40    150       45  20.00  1.2   0     71  40   \n",
       "3        3725  TRAIN_3725  30    170       70  24.22  1.2   1     98  50   \n",
       "4        4544  TRAIN_4544  70    165       70    NaN  0.9   1    103  53   \n",
       "\n",
       "   중성 지방  혈청 크레아티닌  콜레스테롤  고밀도지단백  저밀도지단백  헤모글로빈  요 단백  간 효소율  label  \n",
       "0     75       0.9    200      37     NaN   16.3     1   0.81      1  \n",
       "1     74       0.8    235      55   165.0   13.9     1   2.27      0  \n",
       "2     64       0.7    233      65   155.0   14.0     1   1.59      0  \n",
       "3    111       1.2    208      66   119.0   15.4     1   0.75      0  \n",
       "4    171       1.0    217      55   128.0   15.6     1   0.69      0  "
      ]
     },
     "execution_count": 5,
     "metadata": {},
     "output_type": "execute_result"
    }
   ],
   "source": [
    "train_df.head()"
   ]
  },
  {
   "cell_type": "code",
   "execution_count": 6,
   "id": "6def3bf3-40de-40d8-bd4c-391b7abe8867",
   "metadata": {},
   "outputs": [
    {
     "data": {
      "text/plain": [
       "Unnamed: 0      0\n",
       "ID              0\n",
       "나이              0\n",
       "키(cm)           0\n",
       "몸무게(kg)         0\n",
       "BMI           501\n",
       "시력              0\n",
       "충치              0\n",
       "공복 혈당           0\n",
       "혈압              0\n",
       "중성 지방           0\n",
       "혈청 크레아티닌        0\n",
       "콜레스테롤           0\n",
       "고밀도지단백          0\n",
       "저밀도지단백        475\n",
       "헤모글로빈           0\n",
       "요 단백            0\n",
       "간 효소율           0\n",
       "label           0\n",
       "dtype: int64"
      ]
     },
     "execution_count": 6,
     "metadata": {},
     "output_type": "execute_result"
    }
   ],
   "source": [
    "train_df.isna().sum()"
   ]
  },
  {
   "cell_type": "code",
   "execution_count": 7,
   "id": "1e7d3f47-20f6-4351-a5b6-23489d90685e",
   "metadata": {},
   "outputs": [],
   "source": [
    "import numpy as np"
   ]
  },
  {
   "cell_type": "code",
   "execution_count": 10,
   "id": "da3dded9-4300-49a1-8715-452f0b13bfd7",
   "metadata": {},
   "outputs": [
    {
     "data": {
      "text/plain": [
       "0.05420867582403668"
      ]
     },
     "execution_count": 10,
     "metadata": {},
     "output_type": "execute_result"
    }
   ],
   "source": [
    "correlations = train_df[['BMI', '시력']].corr().loc['BMI', '시력']\n",
    "correlations"
   ]
  },
  {
   "cell_type": "code",
   "execution_count": 11,
   "id": "715c8b6a-193d-4eff-beae-f91241a6b4cc",
   "metadata": {},
   "outputs": [
    {
     "data": {
      "text/plain": [
       "0.01944074743883045"
      ]
     },
     "execution_count": 11,
     "metadata": {},
     "output_type": "execute_result"
    }
   ],
   "source": [
    "correlations = train_df[['BMI', '충치']].corr().loc['BMI', '충치']\n",
    "correlations"
   ]
  },
  {
   "cell_type": "code",
   "execution_count": 12,
   "id": "c6dd1ea9-b695-4fcc-b8dd-0a2f308d17f6",
   "metadata": {},
   "outputs": [
    {
     "data": {
      "text/plain": [
       "0.1571766025714646"
      ]
     },
     "execution_count": 12,
     "metadata": {},
     "output_type": "execute_result"
    }
   ],
   "source": [
    "correlations = train_df[['BMI', '혈압']].corr().loc['BMI', '혈압']\n",
    "correlations"
   ]
  },
  {
   "cell_type": "code",
   "execution_count": 13,
   "id": "369edfb7-140e-4130-bc95-252681337bf1",
   "metadata": {},
   "outputs": [
    {
     "data": {
      "text/plain": [
       "0.099950427535214"
      ]
     },
     "execution_count": 13,
     "metadata": {},
     "output_type": "execute_result"
    }
   ],
   "source": [
    "correlations = train_df[['BMI', '콜레스테롤']].corr().loc['BMI', '콜레스테롤']\n",
    "correlations"
   ]
  },
  {
   "cell_type": "code",
   "execution_count": 14,
   "id": "b538efbe-6113-4eb7-a503-45a39bf77eba",
   "metadata": {},
   "outputs": [
    {
     "data": {
      "text/plain": [
       "0.14522261380109555"
      ]
     },
     "execution_count": 14,
     "metadata": {},
     "output_type": "execute_result"
    }
   ],
   "source": [
    "correlations = train_df[['BMI', '공복 혈당']].corr().loc['BMI', '공복 혈당']\n",
    "correlations"
   ]
  },
  {
   "cell_type": "code",
   "execution_count": 15,
   "id": "d050915d-6605-4602-aae9-131cae7d6206",
   "metadata": {},
   "outputs": [
    {
     "data": {
      "text/plain": [
       "-0.07225445047682057"
      ]
     },
     "execution_count": 15,
     "metadata": {},
     "output_type": "execute_result"
    }
   ],
   "source": [
    "correlations = train_df[['BMI', '나이']].corr().loc['BMI', '나이']\n",
    "correlations"
   ]
  },
  {
   "cell_type": "code",
   "execution_count": 16,
   "id": "c9a1341b-b5bc-4500-adf6-3ab1e18e5805",
   "metadata": {},
   "outputs": [
    {
     "data": {
      "text/plain": [
       "-0.3287575554519697"
      ]
     },
     "execution_count": 16,
     "metadata": {},
     "output_type": "execute_result"
    }
   ],
   "source": [
    "correlations = train_df[['BMI', '고밀도지단백']].corr().loc['BMI', '고밀도지단백']\n",
    "correlations"
   ]
  },
  {
   "cell_type": "code",
   "execution_count": null,
   "id": "92b40cfb-af59-4234-9b9a-bae5689556f6",
   "metadata": {},
   "outputs": [],
   "source": [
    "# 비교적 상관관계가 높아 보이는 혈압으로 BMI 수치를 결정하기로 함.\n"
   ]
  }
 ],
 "metadata": {
  "kernelspec": {
   "display_name": "Python 3 (ipykernel)",
   "language": "python",
   "name": "python3"
  },
  "language_info": {
   "codemirror_mode": {
    "name": "ipython",
    "version": 3
   },
   "file_extension": ".py",
   "mimetype": "text/x-python",
   "name": "python",
   "nbconvert_exporter": "python",
   "pygments_lexer": "ipython3",
   "version": "3.11.4"
  }
 },
 "nbformat": 4,
 "nbformat_minor": 5
}
