{
 "cells": [
  {
   "cell_type": "code",
   "execution_count": 2,
   "id": "e066dbbe-e013-4e0c-98e2-a29aab8099b7",
   "metadata": {},
   "outputs": [],
   "source": [
    "import pandas as pd\n",
    "import numpy as np"
   ]
  },
  {
   "cell_type": "code",
   "execution_count": 3,
   "id": "927da4d9-ddfa-456a-aa2a-4e31575e1a2f",
   "metadata": {},
   "outputs": [],
   "source": [
    "train_df = pd.read_csv('./data./train_practice.csv')\n",
    "test_df = pd.read_csv('./data./test_practice.csv')"
   ]
  },
  {
   "cell_type": "code",
   "execution_count": 4,
   "id": "a135d00d-352c-4ddb-b7fe-72cba2fd026b",
   "metadata": {},
   "outputs": [
    {
     "data": {
      "text/plain": [
       "RangeIndex(start=0, stop=5000, step=1)"
      ]
     },
     "execution_count": 4,
     "metadata": {},
     "output_type": "execute_result"
    }
   ],
   "source": [
    "train_df.index"
   ]
  },
  {
   "cell_type": "code",
   "execution_count": 5,
   "id": "ecdb4311-52e5-4f28-a204-66742b8fd410",
   "metadata": {},
   "outputs": [
    {
     "name": "stdout",
     "output_type": "stream",
     "text": [
      "<class 'pandas.core.frame.DataFrame'>\n",
      "RangeIndex: 5000 entries, 0 to 4999\n",
      "Data columns (total 19 columns):\n",
      " #   Column      Non-Null Count  Dtype  \n",
      "---  ------      --------------  -----  \n",
      " 0   Unnamed: 0  5000 non-null   int64  \n",
      " 1   ID          5000 non-null   object \n",
      " 2   나이          5000 non-null   int64  \n",
      " 3   키(cm)       5000 non-null   int64  \n",
      " 4   몸무게(kg)     5000 non-null   int64  \n",
      " 5   BMI         4499 non-null   float64\n",
      " 6   시력          5000 non-null   float64\n",
      " 7   충치          5000 non-null   int64  \n",
      " 8   공복 혈당       5000 non-null   int64  \n",
      " 9   혈압          5000 non-null   int64  \n",
      " 10  중성 지방       5000 non-null   int64  \n",
      " 11  혈청 크레아티닌    5000 non-null   float64\n",
      " 12  콜레스테롤       5000 non-null   int64  \n",
      " 13  고밀도지단백      5000 non-null   int64  \n",
      " 14  저밀도지단백      4525 non-null   float64\n",
      " 15  헤모글로빈       5000 non-null   float64\n",
      " 16  요 단백        5000 non-null   int64  \n",
      " 17  간 효소율       5000 non-null   float64\n",
      " 18  label       5000 non-null   int64  \n",
      "dtypes: float64(6), int64(12), object(1)\n",
      "memory usage: 742.3+ KB\n"
     ]
    }
   ],
   "source": [
    "train_df.info()"
   ]
  },
  {
   "cell_type": "code",
   "execution_count": 6,
   "id": "1402271d-dc24-4c48-960a-d94c64db6904",
   "metadata": {},
   "outputs": [
    {
     "data": {
      "text/html": [
       "<div>\n",
       "<style scoped>\n",
       "    .dataframe tbody tr th:only-of-type {\n",
       "        vertical-align: middle;\n",
       "    }\n",
       "\n",
       "    .dataframe tbody tr th {\n",
       "        vertical-align: top;\n",
       "    }\n",
       "\n",
       "    .dataframe thead th {\n",
       "        text-align: right;\n",
       "    }\n",
       "</style>\n",
       "<table border=\"1\" class=\"dataframe\">\n",
       "  <thead>\n",
       "    <tr style=\"text-align: right;\">\n",
       "      <th></th>\n",
       "      <th>Unnamed: 0</th>\n",
       "      <th>ID</th>\n",
       "      <th>나이</th>\n",
       "      <th>키(cm)</th>\n",
       "      <th>몸무게(kg)</th>\n",
       "      <th>BMI</th>\n",
       "      <th>시력</th>\n",
       "      <th>충치</th>\n",
       "      <th>공복 혈당</th>\n",
       "      <th>혈압</th>\n",
       "      <th>중성 지방</th>\n",
       "      <th>혈청 크레아티닌</th>\n",
       "      <th>콜레스테롤</th>\n",
       "      <th>고밀도지단백</th>\n",
       "      <th>저밀도지단백</th>\n",
       "      <th>헤모글로빈</th>\n",
       "      <th>요 단백</th>\n",
       "      <th>간 효소율</th>\n",
       "      <th>label</th>\n",
       "    </tr>\n",
       "  </thead>\n",
       "  <tbody>\n",
       "    <tr>\n",
       "      <th>0</th>\n",
       "      <td>738</td>\n",
       "      <td>TRAIN_0738</td>\n",
       "      <td>30</td>\n",
       "      <td>175</td>\n",
       "      <td>90</td>\n",
       "      <td>29.39</td>\n",
       "      <td>1.2</td>\n",
       "      <td>0</td>\n",
       "      <td>85</td>\n",
       "      <td>46</td>\n",
       "      <td>75</td>\n",
       "      <td>0.9</td>\n",
       "      <td>200</td>\n",
       "      <td>37</td>\n",
       "      <td>NaN</td>\n",
       "      <td>16.3</td>\n",
       "      <td>1</td>\n",
       "      <td>0.81</td>\n",
       "      <td>1</td>\n",
       "    </tr>\n",
       "    <tr>\n",
       "      <th>1</th>\n",
       "      <td>2318</td>\n",
       "      <td>TRAIN_2318</td>\n",
       "      <td>60</td>\n",
       "      <td>150</td>\n",
       "      <td>50</td>\n",
       "      <td>NaN</td>\n",
       "      <td>0.6</td>\n",
       "      <td>0</td>\n",
       "      <td>86</td>\n",
       "      <td>46</td>\n",
       "      <td>74</td>\n",
       "      <td>0.8</td>\n",
       "      <td>235</td>\n",
       "      <td>55</td>\n",
       "      <td>165.0</td>\n",
       "      <td>13.9</td>\n",
       "      <td>1</td>\n",
       "      <td>2.27</td>\n",
       "      <td>0</td>\n",
       "    </tr>\n",
       "    <tr>\n",
       "      <th>2</th>\n",
       "      <td>2743</td>\n",
       "      <td>TRAIN_2743</td>\n",
       "      <td>40</td>\n",
       "      <td>150</td>\n",
       "      <td>45</td>\n",
       "      <td>20.00</td>\n",
       "      <td>1.2</td>\n",
       "      <td>0</td>\n",
       "      <td>71</td>\n",
       "      <td>40</td>\n",
       "      <td>64</td>\n",
       "      <td>0.7</td>\n",
       "      <td>233</td>\n",
       "      <td>65</td>\n",
       "      <td>155.0</td>\n",
       "      <td>14.0</td>\n",
       "      <td>1</td>\n",
       "      <td>1.59</td>\n",
       "      <td>0</td>\n",
       "    </tr>\n",
       "    <tr>\n",
       "      <th>3</th>\n",
       "      <td>3725</td>\n",
       "      <td>TRAIN_3725</td>\n",
       "      <td>30</td>\n",
       "      <td>170</td>\n",
       "      <td>70</td>\n",
       "      <td>24.22</td>\n",
       "      <td>1.2</td>\n",
       "      <td>1</td>\n",
       "      <td>98</td>\n",
       "      <td>50</td>\n",
       "      <td>111</td>\n",
       "      <td>1.2</td>\n",
       "      <td>208</td>\n",
       "      <td>66</td>\n",
       "      <td>119.0</td>\n",
       "      <td>15.4</td>\n",
       "      <td>1</td>\n",
       "      <td>0.75</td>\n",
       "      <td>0</td>\n",
       "    </tr>\n",
       "    <tr>\n",
       "      <th>4</th>\n",
       "      <td>4544</td>\n",
       "      <td>TRAIN_4544</td>\n",
       "      <td>70</td>\n",
       "      <td>165</td>\n",
       "      <td>70</td>\n",
       "      <td>NaN</td>\n",
       "      <td>0.9</td>\n",
       "      <td>1</td>\n",
       "      <td>103</td>\n",
       "      <td>53</td>\n",
       "      <td>171</td>\n",
       "      <td>1.0</td>\n",
       "      <td>217</td>\n",
       "      <td>55</td>\n",
       "      <td>128.0</td>\n",
       "      <td>15.6</td>\n",
       "      <td>1</td>\n",
       "      <td>0.69</td>\n",
       "      <td>0</td>\n",
       "    </tr>\n",
       "  </tbody>\n",
       "</table>\n",
       "</div>"
      ],
      "text/plain": [
       "   Unnamed: 0          ID  나이  키(cm)  몸무게(kg)    BMI   시력  충치  공복 혈당  혈압  \\\n",
       "0         738  TRAIN_0738  30    175       90  29.39  1.2   0     85  46   \n",
       "1        2318  TRAIN_2318  60    150       50    NaN  0.6   0     86  46   \n",
       "2        2743  TRAIN_2743  40    150       45  20.00  1.2   0     71  40   \n",
       "3        3725  TRAIN_3725  30    170       70  24.22  1.2   1     98  50   \n",
       "4        4544  TRAIN_4544  70    165       70    NaN  0.9   1    103  53   \n",
       "\n",
       "   중성 지방  혈청 크레아티닌  콜레스테롤  고밀도지단백  저밀도지단백  헤모글로빈  요 단백  간 효소율  label  \n",
       "0     75       0.9    200      37     NaN   16.3     1   0.81      1  \n",
       "1     74       0.8    235      55   165.0   13.9     1   2.27      0  \n",
       "2     64       0.7    233      65   155.0   14.0     1   1.59      0  \n",
       "3    111       1.2    208      66   119.0   15.4     1   0.75      0  \n",
       "4    171       1.0    217      55   128.0   15.6     1   0.69      0  "
      ]
     },
     "execution_count": 6,
     "metadata": {},
     "output_type": "execute_result"
    }
   ],
   "source": [
    "train_df.head()"
   ]
  },
  {
   "cell_type": "code",
   "execution_count": 7,
   "id": "6def3bf3-40de-40d8-bd4c-391b7abe8867",
   "metadata": {},
   "outputs": [
    {
     "data": {
      "text/plain": [
       "Unnamed: 0      0\n",
       "ID              0\n",
       "나이              0\n",
       "키(cm)           0\n",
       "몸무게(kg)         0\n",
       "BMI           501\n",
       "시력              0\n",
       "충치              0\n",
       "공복 혈당           0\n",
       "혈압              0\n",
       "중성 지방           0\n",
       "혈청 크레아티닌        0\n",
       "콜레스테롤           0\n",
       "고밀도지단백          0\n",
       "저밀도지단백        475\n",
       "헤모글로빈           0\n",
       "요 단백            0\n",
       "간 효소율           0\n",
       "label           0\n",
       "dtype: int64"
      ]
     },
     "execution_count": 7,
     "metadata": {},
     "output_type": "execute_result"
    }
   ],
   "source": [
    "train_df.isna().sum()"
   ]
  },
  {
   "cell_type": "code",
   "execution_count": 7,
   "id": "89e82606-8b51-4f09-91df-de142b81420e",
   "metadata": {},
   "outputs": [
    {
     "ename": "ValueError",
     "evalue": "could not convert string to float: 'TRAIN_0738'",
     "output_type": "error",
     "traceback": [
      "\u001b[1;31m---------------------------------------------------------------------------\u001b[0m",
      "\u001b[1;31mValueError\u001b[0m                                Traceback (most recent call last)",
      "Cell \u001b[1;32mIn[7], line 1\u001b[0m\n\u001b[1;32m----> 1\u001b[0m correlation_matrix \u001b[38;5;241m=\u001b[39m \u001b[43mtrain_df\u001b[49m\u001b[38;5;241;43m.\u001b[39;49m\u001b[43mcorr\u001b[49m\u001b[43m(\u001b[49m\u001b[43m)\u001b[49m\n\u001b[0;32m      2\u001b[0m correlation_with_bmi \u001b[38;5;241m=\u001b[39m correlation_matrix[\u001b[38;5;124m'\u001b[39m\u001b[38;5;124mbmi\u001b[39m\u001b[38;5;124m'\u001b[39m]\n\u001b[0;32m      3\u001b[0m most_correlated_feature \u001b[38;5;241m=\u001b[39m correlation_with_bmi\u001b[38;5;241m.\u001b[39midxmax()\n",
      "File \u001b[1;32m~\\AppData\\Local\\Programs\\Python\\Python311\\Lib\\site-packages\\pandas\\core\\frame.py:10054\u001b[0m, in \u001b[0;36mDataFrame.corr\u001b[1;34m(self, method, min_periods, numeric_only)\u001b[0m\n\u001b[0;32m  10052\u001b[0m cols \u001b[38;5;241m=\u001b[39m data\u001b[38;5;241m.\u001b[39mcolumns\n\u001b[0;32m  10053\u001b[0m idx \u001b[38;5;241m=\u001b[39m cols\u001b[38;5;241m.\u001b[39mcopy()\n\u001b[1;32m> 10054\u001b[0m mat \u001b[38;5;241m=\u001b[39m \u001b[43mdata\u001b[49m\u001b[38;5;241;43m.\u001b[39;49m\u001b[43mto_numpy\u001b[49m\u001b[43m(\u001b[49m\u001b[43mdtype\u001b[49m\u001b[38;5;241;43m=\u001b[39;49m\u001b[38;5;28;43mfloat\u001b[39;49m\u001b[43m,\u001b[49m\u001b[43m \u001b[49m\u001b[43mna_value\u001b[49m\u001b[38;5;241;43m=\u001b[39;49m\u001b[43mnp\u001b[49m\u001b[38;5;241;43m.\u001b[39;49m\u001b[43mnan\u001b[49m\u001b[43m,\u001b[49m\u001b[43m \u001b[49m\u001b[43mcopy\u001b[49m\u001b[38;5;241;43m=\u001b[39;49m\u001b[38;5;28;43;01mFalse\u001b[39;49;00m\u001b[43m)\u001b[49m\n\u001b[0;32m  10056\u001b[0m \u001b[38;5;28;01mif\u001b[39;00m method \u001b[38;5;241m==\u001b[39m \u001b[38;5;124m\"\u001b[39m\u001b[38;5;124mpearson\u001b[39m\u001b[38;5;124m\"\u001b[39m:\n\u001b[0;32m  10057\u001b[0m     correl \u001b[38;5;241m=\u001b[39m libalgos\u001b[38;5;241m.\u001b[39mnancorr(mat, minp\u001b[38;5;241m=\u001b[39mmin_periods)\n",
      "File \u001b[1;32m~\\AppData\\Local\\Programs\\Python\\Python311\\Lib\\site-packages\\pandas\\core\\frame.py:1838\u001b[0m, in \u001b[0;36mDataFrame.to_numpy\u001b[1;34m(self, dtype, copy, na_value)\u001b[0m\n\u001b[0;32m   1836\u001b[0m \u001b[38;5;28;01mif\u001b[39;00m dtype \u001b[38;5;129;01mis\u001b[39;00m \u001b[38;5;129;01mnot\u001b[39;00m \u001b[38;5;28;01mNone\u001b[39;00m:\n\u001b[0;32m   1837\u001b[0m     dtype \u001b[38;5;241m=\u001b[39m np\u001b[38;5;241m.\u001b[39mdtype(dtype)\n\u001b[1;32m-> 1838\u001b[0m result \u001b[38;5;241m=\u001b[39m \u001b[38;5;28;43mself\u001b[39;49m\u001b[38;5;241;43m.\u001b[39;49m\u001b[43m_mgr\u001b[49m\u001b[38;5;241;43m.\u001b[39;49m\u001b[43mas_array\u001b[49m\u001b[43m(\u001b[49m\u001b[43mdtype\u001b[49m\u001b[38;5;241;43m=\u001b[39;49m\u001b[43mdtype\u001b[49m\u001b[43m,\u001b[49m\u001b[43m \u001b[49m\u001b[43mcopy\u001b[49m\u001b[38;5;241;43m=\u001b[39;49m\u001b[43mcopy\u001b[49m\u001b[43m,\u001b[49m\u001b[43m \u001b[49m\u001b[43mna_value\u001b[49m\u001b[38;5;241;43m=\u001b[39;49m\u001b[43mna_value\u001b[49m\u001b[43m)\u001b[49m\n\u001b[0;32m   1839\u001b[0m \u001b[38;5;28;01mif\u001b[39;00m result\u001b[38;5;241m.\u001b[39mdtype \u001b[38;5;129;01mis\u001b[39;00m \u001b[38;5;129;01mnot\u001b[39;00m dtype:\n\u001b[0;32m   1840\u001b[0m     result \u001b[38;5;241m=\u001b[39m np\u001b[38;5;241m.\u001b[39marray(result, dtype\u001b[38;5;241m=\u001b[39mdtype, copy\u001b[38;5;241m=\u001b[39m\u001b[38;5;28;01mFalse\u001b[39;00m)\n",
      "File \u001b[1;32m~\\AppData\\Local\\Programs\\Python\\Python311\\Lib\\site-packages\\pandas\\core\\internals\\managers.py:1732\u001b[0m, in \u001b[0;36mBlockManager.as_array\u001b[1;34m(self, dtype, copy, na_value)\u001b[0m\n\u001b[0;32m   1730\u001b[0m         arr\u001b[38;5;241m.\u001b[39mflags\u001b[38;5;241m.\u001b[39mwriteable \u001b[38;5;241m=\u001b[39m \u001b[38;5;28;01mFalse\u001b[39;00m\n\u001b[0;32m   1731\u001b[0m \u001b[38;5;28;01melse\u001b[39;00m:\n\u001b[1;32m-> 1732\u001b[0m     arr \u001b[38;5;241m=\u001b[39m \u001b[38;5;28;43mself\u001b[39;49m\u001b[38;5;241;43m.\u001b[39;49m\u001b[43m_interleave\u001b[49m\u001b[43m(\u001b[49m\u001b[43mdtype\u001b[49m\u001b[38;5;241;43m=\u001b[39;49m\u001b[43mdtype\u001b[49m\u001b[43m,\u001b[49m\u001b[43m \u001b[49m\u001b[43mna_value\u001b[49m\u001b[38;5;241;43m=\u001b[39;49m\u001b[43mna_value\u001b[49m\u001b[43m)\u001b[49m\n\u001b[0;32m   1733\u001b[0m     \u001b[38;5;66;03m# The underlying data was copied within _interleave, so no need\u001b[39;00m\n\u001b[0;32m   1734\u001b[0m     \u001b[38;5;66;03m# to further copy if copy=True or setting na_value\u001b[39;00m\n\u001b[0;32m   1736\u001b[0m \u001b[38;5;28;01mif\u001b[39;00m na_value \u001b[38;5;129;01mis\u001b[39;00m \u001b[38;5;129;01mnot\u001b[39;00m lib\u001b[38;5;241m.\u001b[39mno_default:\n",
      "File \u001b[1;32m~\\AppData\\Local\\Programs\\Python\\Python311\\Lib\\site-packages\\pandas\\core\\internals\\managers.py:1794\u001b[0m, in \u001b[0;36mBlockManager._interleave\u001b[1;34m(self, dtype, na_value)\u001b[0m\n\u001b[0;32m   1792\u001b[0m     \u001b[38;5;28;01melse\u001b[39;00m:\n\u001b[0;32m   1793\u001b[0m         arr \u001b[38;5;241m=\u001b[39m blk\u001b[38;5;241m.\u001b[39mget_values(dtype)\n\u001b[1;32m-> 1794\u001b[0m     \u001b[43mresult\u001b[49m\u001b[43m[\u001b[49m\u001b[43mrl\u001b[49m\u001b[38;5;241;43m.\u001b[39;49m\u001b[43mindexer\u001b[49m\u001b[43m]\u001b[49m \u001b[38;5;241m=\u001b[39m arr\n\u001b[0;32m   1795\u001b[0m     itemmask[rl\u001b[38;5;241m.\u001b[39mindexer] \u001b[38;5;241m=\u001b[39m \u001b[38;5;241m1\u001b[39m\n\u001b[0;32m   1797\u001b[0m \u001b[38;5;28;01mif\u001b[39;00m \u001b[38;5;129;01mnot\u001b[39;00m itemmask\u001b[38;5;241m.\u001b[39mall():\n",
      "\u001b[1;31mValueError\u001b[0m: could not convert string to float: 'TRAIN_0738'"
     ]
    }
   ],
   "source": [
    "correlation_matrix = train_df.corr()\n",
    "correlation_with_bmi = correlation_matrix['bmi']\n",
    "most_correlated_feature = correlation_with_bmi.idxmax()"
   ]
  },
  {
   "cell_type": "code",
   "execution_count": 7,
   "id": "da3dded9-4300-49a1-8715-452f0b13bfd7",
   "metadata": {},
   "outputs": [
    {
     "data": {
      "text/plain": [
       "0.05420867582403668"
      ]
     },
     "execution_count": 7,
     "metadata": {},
     "output_type": "execute_result"
    }
   ],
   "source": [
    "correlations = train_df[['BMI', '시력']].corr().loc['BMI', '시력']\n",
    "correlations"
   ]
  },
  {
   "cell_type": "code",
   "execution_count": 8,
   "id": "715c8b6a-193d-4eff-beae-f91241a6b4cc",
   "metadata": {},
   "outputs": [
    {
     "data": {
      "text/plain": [
       "0.01944074743883045"
      ]
     },
     "execution_count": 8,
     "metadata": {},
     "output_type": "execute_result"
    }
   ],
   "source": [
    "correlations = train_df[['BMI', '충치']].corr().loc['BMI', '충치']\n",
    "correlations"
   ]
  },
  {
   "cell_type": "code",
   "execution_count": 9,
   "id": "c6dd1ea9-b695-4fcc-b8dd-0a2f308d17f6",
   "metadata": {},
   "outputs": [
    {
     "data": {
      "text/plain": [
       "0.1571766025714646"
      ]
     },
     "execution_count": 9,
     "metadata": {},
     "output_type": "execute_result"
    }
   ],
   "source": [
    "correlations = train_df[['BMI', '혈압']].corr().loc['BMI', '혈압']\n",
    "correlations"
   ]
  },
  {
   "cell_type": "code",
   "execution_count": 10,
   "id": "369edfb7-140e-4130-bc95-252681337bf1",
   "metadata": {},
   "outputs": [
    {
     "data": {
      "text/plain": [
       "0.099950427535214"
      ]
     },
     "execution_count": 10,
     "metadata": {},
     "output_type": "execute_result"
    }
   ],
   "source": [
    "correlations = train_df[['BMI', '콜레스테롤']].corr().loc['BMI', '콜레스테롤']\n",
    "correlations"
   ]
  },
  {
   "cell_type": "code",
   "execution_count": 11,
   "id": "b538efbe-6113-4eb7-a503-45a39bf77eba",
   "metadata": {},
   "outputs": [
    {
     "data": {
      "text/plain": [
       "0.14522261380109555"
      ]
     },
     "execution_count": 11,
     "metadata": {},
     "output_type": "execute_result"
    }
   ],
   "source": [
    "correlations = train_df[['BMI', '공복 혈당']].corr().loc['BMI', '공복 혈당']\n",
    "correlations"
   ]
  },
  {
   "cell_type": "code",
   "execution_count": 12,
   "id": "d050915d-6605-4602-aae9-131cae7d6206",
   "metadata": {},
   "outputs": [
    {
     "data": {
      "text/plain": [
       "-0.07225445047682057"
      ]
     },
     "execution_count": 12,
     "metadata": {},
     "output_type": "execute_result"
    }
   ],
   "source": [
    "correlations = train_df[['BMI', '나이']].corr().loc['BMI', '나이']\n",
    "correlations"
   ]
  },
  {
   "cell_type": "code",
   "execution_count": 13,
   "id": "c9a1341b-b5bc-4500-adf6-3ab1e18e5805",
   "metadata": {},
   "outputs": [
    {
     "data": {
      "text/plain": [
       "-0.3287575554519697"
      ]
     },
     "execution_count": 13,
     "metadata": {},
     "output_type": "execute_result"
    }
   ],
   "source": [
    "correlations = train_df[['BMI', '고밀도지단백']].corr().loc['BMI', '고밀도지단백']\n",
    "correlations"
   ]
  },
  {
   "cell_type": "code",
   "execution_count": 14,
   "id": "1fb89f53-788e-4637-b7ef-d10a94c525c0",
   "metadata": {},
   "outputs": [
    {
     "data": {
      "text/plain": [
       "-0.37585431151872517"
      ]
     },
     "execution_count": 14,
     "metadata": {},
     "output_type": "execute_result"
    }
   ],
   "source": [
    "correlations = train_df[['BMI', '간 효소율']].corr().loc['BMI', '간 효소율']\n",
    "correlations"
   ]
  },
  {
   "cell_type": "code",
   "execution_count": 15,
   "id": "aaf62ad7-8189-452f-8df6-c1da0e28ce35",
   "metadata": {},
   "outputs": [
    {
     "data": {
      "text/plain": [
       "0.827446465113554"
      ]
     },
     "execution_count": 15,
     "metadata": {},
     "output_type": "execute_result"
    }
   ],
   "source": [
    "correlations = train_df[['BMI', '몸무게(kg)']].corr().loc['BMI', '몸무게(kg)']\n",
    "correlations"
   ]
  },
  {
   "cell_type": "code",
   "execution_count": 8,
   "id": "92b40cfb-af59-4234-9b9a-bae5689556f6",
   "metadata": {},
   "outputs": [
    {
     "name": "stdout",
     "output_type": "stream",
     "text": [
      "      Unnamed: 0          ID  나이  키(cm)  몸무게(kg)        BMI    시력  충치  공복 혈당  \\\n",
      "0            738  TRAIN_0738  30    175       90  29.390000  1.20   0     85   \n",
      "1           2318  TRAIN_2318  60    150       50  22.222222  0.60   0     86   \n",
      "2           2743  TRAIN_2743  40    150       45  20.000000  1.20   0     71   \n",
      "3           3725  TRAIN_3725  30    170       70  24.220000  1.20   1     98   \n",
      "4           4544  TRAIN_4544  70    165       70  25.711662  0.90   1    103   \n",
      "...          ...         ...  ..    ...      ...        ...   ...  ..    ...   \n",
      "4995        6356  TRAIN_6356  40    170       85  29.410000  1.50   0    129   \n",
      "4996        2083  TRAIN_2083  30    175      100  32.650000  1.35   1     91   \n",
      "4997        1702  TRAIN_1702  35    180       90  27.780000  0.90   0     96   \n",
      "4998        1139  TRAIN_1139  60    150       50  22.220000  1.20   0     89   \n",
      "4999        2176  TRAIN_2176  25    175       60  19.590000  1.10   1     84   \n",
      "\n",
      "      혈압  중성 지방  혈청 크레아티닌  콜레스테롤  고밀도지단백  저밀도지단백  헤모글로빈  요 단백  간 효소율  label  \n",
      "0     46     75       0.9    200      37     NaN   16.3     1   0.81      1  \n",
      "1     46     74       0.8    235      55   165.0   13.9     1   2.27      0  \n",
      "2     40     64       0.7    233      65   155.0   14.0     1   1.59      0  \n",
      "3     50    111       1.2    208      66   119.0   15.4     1   0.75      0  \n",
      "4     53    171       1.0    217      55   128.0   15.6     1   0.69      0  \n",
      "...   ..    ...       ...    ...     ...     ...    ...   ...    ...    ...  \n",
      "4995  50    132       0.9    211      39   146.0   16.6     1   0.59      1  \n",
      "4996  50     62       0.8    181      57   112.0   15.6     1   1.10      0  \n",
      "4997  32    181       1.2    238      46   156.0   17.0     1   0.73      0  \n",
      "4998  70     67       0.6    162      71    77.0   13.1     1   1.24      0  \n",
      "4999  38     92       1.3    183      54     NaN   17.7     1   1.40      0  \n",
      "\n",
      "[5000 rows x 19 columns]\n"
     ]
    }
   ],
   "source": [
    "# 비교적 상관관계가 높아 보이는 몸무게로 BMI 수치를 결정하기로 함. \n",
    "\n",
    "missing_bmi = train_df[train_df['BMI'].isnull()]\n",
    "# train_df.sort_values(by='몸무게(kg)', inplace=True)\n",
    "# train_df['BMI'].interpolate(method='linear', inplace=True)\n",
    "# train_df.to_csv('train_filled_1.csv', index=False)\n",
    "def fill_bmi(row):\n",
    "    if pd.isnull(row['BMI']):\n",
    "        weight = row['몸무게(kg)']\n",
    "        height = row['키(cm)'] / 100\n",
    "        bmi = weight / (height**2)\n",
    "        return bmi\n",
    "    else:\n",
    "        return row['BMI']\n",
    "train_df['bmi_filled'] = train_df.apply(fill_bmi, axis=1)\n",
    "\n",
    "train_df['BMI'] = train_df['bmi_filled']\n",
    "\n",
    "train_df.drop(columns=['bmi_filled'], inplace=True)\n",
    "\n",
    "print(train_df)"
   ]
  },
  {
   "cell_type": "code",
   "execution_count": 9,
   "id": "6a44694d-3073-4a76-84cf-305f2655cbe9",
   "metadata": {},
   "outputs": [
    {
     "data": {
      "text/html": [
       "<div>\n",
       "<style scoped>\n",
       "    .dataframe tbody tr th:only-of-type {\n",
       "        vertical-align: middle;\n",
       "    }\n",
       "\n",
       "    .dataframe tbody tr th {\n",
       "        vertical-align: top;\n",
       "    }\n",
       "\n",
       "    .dataframe thead th {\n",
       "        text-align: right;\n",
       "    }\n",
       "</style>\n",
       "<table border=\"1\" class=\"dataframe\">\n",
       "  <thead>\n",
       "    <tr style=\"text-align: right;\">\n",
       "      <th></th>\n",
       "      <th>Unnamed: 0</th>\n",
       "      <th>ID</th>\n",
       "      <th>나이</th>\n",
       "      <th>키(cm)</th>\n",
       "      <th>몸무게(kg)</th>\n",
       "      <th>BMI</th>\n",
       "      <th>시력</th>\n",
       "      <th>충치</th>\n",
       "      <th>공복 혈당</th>\n",
       "      <th>혈압</th>\n",
       "      <th>중성 지방</th>\n",
       "      <th>혈청 크레아티닌</th>\n",
       "      <th>콜레스테롤</th>\n",
       "      <th>고밀도지단백</th>\n",
       "      <th>저밀도지단백</th>\n",
       "      <th>헤모글로빈</th>\n",
       "      <th>요 단백</th>\n",
       "      <th>간 효소율</th>\n",
       "      <th>label</th>\n",
       "    </tr>\n",
       "  </thead>\n",
       "  <tbody>\n",
       "    <tr>\n",
       "      <th>0</th>\n",
       "      <td>738</td>\n",
       "      <td>TRAIN_0738</td>\n",
       "      <td>30</td>\n",
       "      <td>175</td>\n",
       "      <td>90</td>\n",
       "      <td>29.390000</td>\n",
       "      <td>1.2</td>\n",
       "      <td>0</td>\n",
       "      <td>85</td>\n",
       "      <td>46</td>\n",
       "      <td>75</td>\n",
       "      <td>0.9</td>\n",
       "      <td>200</td>\n",
       "      <td>37</td>\n",
       "      <td>NaN</td>\n",
       "      <td>16.3</td>\n",
       "      <td>1</td>\n",
       "      <td>0.81</td>\n",
       "      <td>1</td>\n",
       "    </tr>\n",
       "    <tr>\n",
       "      <th>1</th>\n",
       "      <td>2318</td>\n",
       "      <td>TRAIN_2318</td>\n",
       "      <td>60</td>\n",
       "      <td>150</td>\n",
       "      <td>50</td>\n",
       "      <td>22.222222</td>\n",
       "      <td>0.6</td>\n",
       "      <td>0</td>\n",
       "      <td>86</td>\n",
       "      <td>46</td>\n",
       "      <td>74</td>\n",
       "      <td>0.8</td>\n",
       "      <td>235</td>\n",
       "      <td>55</td>\n",
       "      <td>165.0</td>\n",
       "      <td>13.9</td>\n",
       "      <td>1</td>\n",
       "      <td>2.27</td>\n",
       "      <td>0</td>\n",
       "    </tr>\n",
       "    <tr>\n",
       "      <th>2</th>\n",
       "      <td>2743</td>\n",
       "      <td>TRAIN_2743</td>\n",
       "      <td>40</td>\n",
       "      <td>150</td>\n",
       "      <td>45</td>\n",
       "      <td>20.000000</td>\n",
       "      <td>1.2</td>\n",
       "      <td>0</td>\n",
       "      <td>71</td>\n",
       "      <td>40</td>\n",
       "      <td>64</td>\n",
       "      <td>0.7</td>\n",
       "      <td>233</td>\n",
       "      <td>65</td>\n",
       "      <td>155.0</td>\n",
       "      <td>14.0</td>\n",
       "      <td>1</td>\n",
       "      <td>1.59</td>\n",
       "      <td>0</td>\n",
       "    </tr>\n",
       "    <tr>\n",
       "      <th>3</th>\n",
       "      <td>3725</td>\n",
       "      <td>TRAIN_3725</td>\n",
       "      <td>30</td>\n",
       "      <td>170</td>\n",
       "      <td>70</td>\n",
       "      <td>24.220000</td>\n",
       "      <td>1.2</td>\n",
       "      <td>1</td>\n",
       "      <td>98</td>\n",
       "      <td>50</td>\n",
       "      <td>111</td>\n",
       "      <td>1.2</td>\n",
       "      <td>208</td>\n",
       "      <td>66</td>\n",
       "      <td>119.0</td>\n",
       "      <td>15.4</td>\n",
       "      <td>1</td>\n",
       "      <td>0.75</td>\n",
       "      <td>0</td>\n",
       "    </tr>\n",
       "    <tr>\n",
       "      <th>4</th>\n",
       "      <td>4544</td>\n",
       "      <td>TRAIN_4544</td>\n",
       "      <td>70</td>\n",
       "      <td>165</td>\n",
       "      <td>70</td>\n",
       "      <td>25.711662</td>\n",
       "      <td>0.9</td>\n",
       "      <td>1</td>\n",
       "      <td>103</td>\n",
       "      <td>53</td>\n",
       "      <td>171</td>\n",
       "      <td>1.0</td>\n",
       "      <td>217</td>\n",
       "      <td>55</td>\n",
       "      <td>128.0</td>\n",
       "      <td>15.6</td>\n",
       "      <td>1</td>\n",
       "      <td>0.69</td>\n",
       "      <td>0</td>\n",
       "    </tr>\n",
       "  </tbody>\n",
       "</table>\n",
       "</div>"
      ],
      "text/plain": [
       "   Unnamed: 0          ID  나이  키(cm)  몸무게(kg)        BMI   시력  충치  공복 혈당  혈압  \\\n",
       "0         738  TRAIN_0738  30    175       90  29.390000  1.2   0     85  46   \n",
       "1        2318  TRAIN_2318  60    150       50  22.222222  0.6   0     86  46   \n",
       "2        2743  TRAIN_2743  40    150       45  20.000000  1.2   0     71  40   \n",
       "3        3725  TRAIN_3725  30    170       70  24.220000  1.2   1     98  50   \n",
       "4        4544  TRAIN_4544  70    165       70  25.711662  0.9   1    103  53   \n",
       "\n",
       "   중성 지방  혈청 크레아티닌  콜레스테롤  고밀도지단백  저밀도지단백  헤모글로빈  요 단백  간 효소율  label  \n",
       "0     75       0.9    200      37     NaN   16.3     1   0.81      1  \n",
       "1     74       0.8    235      55   165.0   13.9     1   2.27      0  \n",
       "2     64       0.7    233      65   155.0   14.0     1   1.59      0  \n",
       "3    111       1.2    208      66   119.0   15.4     1   0.75      0  \n",
       "4    171       1.0    217      55   128.0   15.6     1   0.69      0  "
      ]
     },
     "execution_count": 9,
     "metadata": {},
     "output_type": "execute_result"
    }
   ],
   "source": [
    "train_df.head()"
   ]
  },
  {
   "cell_type": "code",
   "execution_count": 17,
   "id": "1d4fbf25-97d9-48ed-98ea-81003a92d165",
   "metadata": {},
   "outputs": [],
   "source": [
    "tf_df = pd.read_csv('./data./train_filled_1.csv')"
   ]
  },
  {
   "cell_type": "code",
   "execution_count": 18,
   "id": "0a1d77ae-52d0-41c8-8b0f-be7836021a0a",
   "metadata": {},
   "outputs": [
    {
     "data": {
      "text/html": [
       "<div>\n",
       "<style scoped>\n",
       "    .dataframe tbody tr th:only-of-type {\n",
       "        vertical-align: middle;\n",
       "    }\n",
       "\n",
       "    .dataframe tbody tr th {\n",
       "        vertical-align: top;\n",
       "    }\n",
       "\n",
       "    .dataframe thead th {\n",
       "        text-align: right;\n",
       "    }\n",
       "</style>\n",
       "<table border=\"1\" class=\"dataframe\">\n",
       "  <thead>\n",
       "    <tr style=\"text-align: right;\">\n",
       "      <th></th>\n",
       "      <th>Unnamed: 0</th>\n",
       "      <th>ID</th>\n",
       "      <th>나이</th>\n",
       "      <th>키(cm)</th>\n",
       "      <th>몸무게(kg)</th>\n",
       "      <th>BMI</th>\n",
       "      <th>시력</th>\n",
       "      <th>충치</th>\n",
       "      <th>공복 혈당</th>\n",
       "      <th>혈압</th>\n",
       "      <th>중성 지방</th>\n",
       "      <th>혈청 크레아티닌</th>\n",
       "      <th>콜레스테롤</th>\n",
       "      <th>고밀도지단백</th>\n",
       "      <th>저밀도지단백</th>\n",
       "      <th>헤모글로빈</th>\n",
       "      <th>요 단백</th>\n",
       "      <th>간 효소율</th>\n",
       "      <th>label</th>\n",
       "    </tr>\n",
       "  </thead>\n",
       "  <tbody>\n",
       "    <tr>\n",
       "      <th>0</th>\n",
       "      <td>6926</td>\n",
       "      <td>TRAIN_6926</td>\n",
       "      <td>75</td>\n",
       "      <td>145</td>\n",
       "      <td>30</td>\n",
       "      <td>14.27</td>\n",
       "      <td>0.7</td>\n",
       "      <td>0</td>\n",
       "      <td>78</td>\n",
       "      <td>23</td>\n",
       "      <td>27</td>\n",
       "      <td>0.7</td>\n",
       "      <td>196</td>\n",
       "      <td>78</td>\n",
       "      <td>112.0</td>\n",
       "      <td>10.1</td>\n",
       "      <td>1</td>\n",
       "      <td>1.55</td>\n",
       "      <td>0</td>\n",
       "    </tr>\n",
       "    <tr>\n",
       "      <th>1</th>\n",
       "      <td>4620</td>\n",
       "      <td>TRAIN_4620</td>\n",
       "      <td>45</td>\n",
       "      <td>145</td>\n",
       "      <td>35</td>\n",
       "      <td>16.65</td>\n",
       "      <td>1.0</td>\n",
       "      <td>0</td>\n",
       "      <td>113</td>\n",
       "      <td>48</td>\n",
       "      <td>65</td>\n",
       "      <td>0.7</td>\n",
       "      <td>270</td>\n",
       "      <td>87</td>\n",
       "      <td>170.0</td>\n",
       "      <td>13.7</td>\n",
       "      <td>1</td>\n",
       "      <td>0.85</td>\n",
       "      <td>0</td>\n",
       "    </tr>\n",
       "    <tr>\n",
       "      <th>2</th>\n",
       "      <td>1982</td>\n",
       "      <td>TRAIN_1982</td>\n",
       "      <td>40</td>\n",
       "      <td>140</td>\n",
       "      <td>35</td>\n",
       "      <td>17.86</td>\n",
       "      <td>0.3</td>\n",
       "      <td>0</td>\n",
       "      <td>87</td>\n",
       "      <td>42</td>\n",
       "      <td>41</td>\n",
       "      <td>0.6</td>\n",
       "      <td>135</td>\n",
       "      <td>75</td>\n",
       "      <td>52.0</td>\n",
       "      <td>10.4</td>\n",
       "      <td>1</td>\n",
       "      <td>1.14</td>\n",
       "      <td>0</td>\n",
       "    </tr>\n",
       "    <tr>\n",
       "      <th>3</th>\n",
       "      <td>80</td>\n",
       "      <td>TRAIN_0080</td>\n",
       "      <td>60</td>\n",
       "      <td>140</td>\n",
       "      <td>35</td>\n",
       "      <td>17.86</td>\n",
       "      <td>1.0</td>\n",
       "      <td>0</td>\n",
       "      <td>112</td>\n",
       "      <td>53</td>\n",
       "      <td>60</td>\n",
       "      <td>0.8</td>\n",
       "      <td>254</td>\n",
       "      <td>81</td>\n",
       "      <td>161.0</td>\n",
       "      <td>12.5</td>\n",
       "      <td>1</td>\n",
       "      <td>0.90</td>\n",
       "      <td>0</td>\n",
       "    </tr>\n",
       "    <tr>\n",
       "      <th>4</th>\n",
       "      <td>1125</td>\n",
       "      <td>TRAIN_1125</td>\n",
       "      <td>75</td>\n",
       "      <td>135</td>\n",
       "      <td>35</td>\n",
       "      <td>19.20</td>\n",
       "      <td>0.2</td>\n",
       "      <td>0</td>\n",
       "      <td>97</td>\n",
       "      <td>43</td>\n",
       "      <td>76</td>\n",
       "      <td>0.8</td>\n",
       "      <td>133</td>\n",
       "      <td>42</td>\n",
       "      <td>75.0</td>\n",
       "      <td>11.9</td>\n",
       "      <td>1</td>\n",
       "      <td>1.55</td>\n",
       "      <td>0</td>\n",
       "    </tr>\n",
       "  </tbody>\n",
       "</table>\n",
       "</div>"
      ],
      "text/plain": [
       "   Unnamed: 0          ID  나이  키(cm)  몸무게(kg)    BMI   시력  충치  공복 혈당  혈압  \\\n",
       "0        6926  TRAIN_6926  75    145       30  14.27  0.7   0     78  23   \n",
       "1        4620  TRAIN_4620  45    145       35  16.65  1.0   0    113  48   \n",
       "2        1982  TRAIN_1982  40    140       35  17.86  0.3   0     87  42   \n",
       "3          80  TRAIN_0080  60    140       35  17.86  1.0   0    112  53   \n",
       "4        1125  TRAIN_1125  75    135       35  19.20  0.2   0     97  43   \n",
       "\n",
       "   중성 지방  혈청 크레아티닌  콜레스테롤  고밀도지단백  저밀도지단백  헤모글로빈  요 단백  간 효소율  label  \n",
       "0     27       0.7    196      78   112.0   10.1     1   1.55      0  \n",
       "1     65       0.7    270      87   170.0   13.7     1   0.85      0  \n",
       "2     41       0.6    135      75    52.0   10.4     1   1.14      0  \n",
       "3     60       0.8    254      81   161.0   12.5     1   0.90      0  \n",
       "4     76       0.8    133      42    75.0   11.9     1   1.55      0  "
      ]
     },
     "execution_count": 18,
     "metadata": {},
     "output_type": "execute_result"
    }
   ],
   "source": [
    "tf_df.head()"
   ]
  },
  {
   "cell_type": "code",
   "execution_count": 19,
   "id": "e2b5f61a-7d17-4404-a717-a0d897f7d00b",
   "metadata": {},
   "outputs": [
    {
     "data": {
      "text/plain": [
       "Unnamed: 0      0\n",
       "ID              0\n",
       "나이              0\n",
       "키(cm)           0\n",
       "몸무게(kg)         0\n",
       "BMI             0\n",
       "시력              0\n",
       "충치              0\n",
       "공복 혈당           0\n",
       "혈압              0\n",
       "중성 지방           0\n",
       "혈청 크레아티닌        0\n",
       "콜레스테롤           0\n",
       "고밀도지단백          0\n",
       "저밀도지단백        475\n",
       "헤모글로빈           0\n",
       "요 단백            0\n",
       "간 효소율           0\n",
       "label           0\n",
       "dtype: int64"
      ]
     },
     "execution_count": 19,
     "metadata": {},
     "output_type": "execute_result"
    }
   ],
   "source": [
    "tf_df.isna().sum()"
   ]
  },
  {
   "cell_type": "code",
   "execution_count": 10,
   "id": "22ea12ff-4260-4b1e-8e2f-479dbf2128a6",
   "metadata": {},
   "outputs": [
    {
     "data": {
      "text/plain": [
       "0.7568680739794581"
      ]
     },
     "execution_count": 10,
     "metadata": {},
     "output_type": "execute_result"
    }
   ],
   "source": [
    "# 저밀도지단백 결측치 채우기 위한 상관관계 따져보기\n",
    "correlations = train_df[['저밀도지단백', '콜레스테롤']].corr().loc['저밀도지단백', '콜레스테롤']\n",
    "correlations"
   ]
  },
  {
   "cell_type": "code",
   "execution_count": 21,
   "id": "25a7ebd6-c77f-45bc-be16-ae1d5b653432",
   "metadata": {},
   "outputs": [
    {
     "data": {
      "text/plain": [
       "0.05011812558054712"
      ]
     },
     "execution_count": 21,
     "metadata": {},
     "output_type": "execute_result"
    }
   ],
   "source": [
    "correlations = tf_df[['저밀도지단백', '몸무게(kg)']].corr().loc['저밀도지단백', '몸무게(kg)']\n",
    "correlations"
   ]
  },
  {
   "cell_type": "code",
   "execution_count": 22,
   "id": "404a0fff-c05e-480f-8a0c-cc202942c7b9",
   "metadata": {},
   "outputs": [
    {
     "data": {
      "text/plain": [
       "-0.05605745537340944"
      ]
     },
     "execution_count": 22,
     "metadata": {},
     "output_type": "execute_result"
    }
   ],
   "source": [
    "correlations = tf_df[['저밀도지단백', '고밀도지단백']].corr().loc['저밀도지단백', '고밀도지단백']\n",
    "correlations"
   ]
  },
  {
   "cell_type": "code",
   "execution_count": 23,
   "id": "b3942240-93d9-4c54-8c35-ff85d47ff7ea",
   "metadata": {},
   "outputs": [
    {
     "data": {
      "text/plain": [
       "-0.023704920797517362"
      ]
     },
     "execution_count": 23,
     "metadata": {},
     "output_type": "execute_result"
    }
   ],
   "source": [
    "correlations = tf_df[['저밀도지단백', '혈압']].corr().loc['저밀도지단백', '혈압']\n",
    "correlations"
   ]
  },
  {
   "cell_type": "code",
   "execution_count": 24,
   "id": "8576b1bc-7bff-45d2-9808-d49cb9ee9610",
   "metadata": {},
   "outputs": [
    {
     "data": {
      "text/plain": [
       "0.002028432052299535"
      ]
     },
     "execution_count": 24,
     "metadata": {},
     "output_type": "execute_result"
    }
   ],
   "source": [
    "correlations = tf_df[['저밀도지단백', '공복 혈당']].corr().loc['저밀도지단백', '공복 혈당']\n",
    "correlations"
   ]
  },
  {
   "cell_type": "code",
   "execution_count": 25,
   "id": "834bd5ad-4e31-40f7-8c4e-aca769296065",
   "metadata": {},
   "outputs": [
    {
     "data": {
      "text/plain": [
       "0.07035644711073019"
      ]
     },
     "execution_count": 25,
     "metadata": {},
     "output_type": "execute_result"
    }
   ],
   "source": [
    "correlations = tf_df[['저밀도지단백', '헤모글로빈']].corr().loc['저밀도지단백', '헤모글로빈']\n",
    "correlations"
   ]
  },
  {
   "cell_type": "code",
   "execution_count": 11,
   "id": "cce39482-0ad7-425c-9294-f1cd22e00bc2",
   "metadata": {},
   "outputs": [],
   "source": [
    "# 가장 연관성 높아 보이는 콜레스테롤 기반으로 저밀도지단백 채우기\n",
    "train_df.sort_values(by='콜레스테롤', inplace=True)\n",
    "train_df['저밀도지단백'].interpolate(method='linear', inplace=True)\n",
    "train_df.to_csv('train_filled_1.csv', index=False)"
   ]
  },
  {
   "cell_type": "code",
   "execution_count": 15,
   "id": "d889f6d2-8d30-488e-b048-a39499ab19c4",
   "metadata": {},
   "outputs": [],
   "source": [
    "train_df = pd.read_csv('./data./train_filled_1.csv')"
   ]
  },
  {
   "cell_type": "code",
   "execution_count": 16,
   "id": "58c8e54a-67f3-4941-9a44-a64cdf8d0ed2",
   "metadata": {},
   "outputs": [
    {
     "data": {
      "text/html": [
       "<div>\n",
       "<style scoped>\n",
       "    .dataframe tbody tr th:only-of-type {\n",
       "        vertical-align: middle;\n",
       "    }\n",
       "\n",
       "    .dataframe tbody tr th {\n",
       "        vertical-align: top;\n",
       "    }\n",
       "\n",
       "    .dataframe thead th {\n",
       "        text-align: right;\n",
       "    }\n",
       "</style>\n",
       "<table border=\"1\" class=\"dataframe\">\n",
       "  <thead>\n",
       "    <tr style=\"text-align: right;\">\n",
       "      <th></th>\n",
       "      <th>Unnamed: 0</th>\n",
       "      <th>ID</th>\n",
       "      <th>나이</th>\n",
       "      <th>키(cm)</th>\n",
       "      <th>몸무게(kg)</th>\n",
       "      <th>BMI</th>\n",
       "      <th>시력</th>\n",
       "      <th>충치</th>\n",
       "      <th>공복 혈당</th>\n",
       "      <th>혈압</th>\n",
       "      <th>중성 지방</th>\n",
       "      <th>혈청 크레아티닌</th>\n",
       "      <th>콜레스테롤</th>\n",
       "      <th>고밀도지단백</th>\n",
       "      <th>저밀도지단백</th>\n",
       "      <th>헤모글로빈</th>\n",
       "      <th>요 단백</th>\n",
       "      <th>간 효소율</th>\n",
       "      <th>label</th>\n",
       "    </tr>\n",
       "  </thead>\n",
       "  <tbody>\n",
       "    <tr>\n",
       "      <th>0</th>\n",
       "      <td>2693</td>\n",
       "      <td>TRAIN_2693</td>\n",
       "      <td>35</td>\n",
       "      <td>165</td>\n",
       "      <td>60</td>\n",
       "      <td>22.04000</td>\n",
       "      <td>1.10</td>\n",
       "      <td>0</td>\n",
       "      <td>86</td>\n",
       "      <td>30</td>\n",
       "      <td>51</td>\n",
       "      <td>0.9</td>\n",
       "      <td>86</td>\n",
       "      <td>37</td>\n",
       "      <td>38.0</td>\n",
       "      <td>15.3</td>\n",
       "      <td>1</td>\n",
       "      <td>0.75</td>\n",
       "      <td>1</td>\n",
       "    </tr>\n",
       "    <tr>\n",
       "      <th>1</th>\n",
       "      <td>1527</td>\n",
       "      <td>TRAIN_1527</td>\n",
       "      <td>60</td>\n",
       "      <td>175</td>\n",
       "      <td>85</td>\n",
       "      <td>27.76000</td>\n",
       "      <td>0.90</td>\n",
       "      <td>0</td>\n",
       "      <td>105</td>\n",
       "      <td>60</td>\n",
       "      <td>88</td>\n",
       "      <td>0.9</td>\n",
       "      <td>97</td>\n",
       "      <td>41</td>\n",
       "      <td>48.0</td>\n",
       "      <td>15.0</td>\n",
       "      <td>1</td>\n",
       "      <td>1.00</td>\n",
       "      <td>1</td>\n",
       "    </tr>\n",
       "    <tr>\n",
       "      <th>2</th>\n",
       "      <td>2664</td>\n",
       "      <td>TRAIN_2664</td>\n",
       "      <td>85</td>\n",
       "      <td>145</td>\n",
       "      <td>40</td>\n",
       "      <td>19.02497</td>\n",
       "      <td>0.25</td>\n",
       "      <td>0</td>\n",
       "      <td>93</td>\n",
       "      <td>40</td>\n",
       "      <td>53</td>\n",
       "      <td>1.1</td>\n",
       "      <td>98</td>\n",
       "      <td>46</td>\n",
       "      <td>41.0</td>\n",
       "      <td>10.1</td>\n",
       "      <td>1</td>\n",
       "      <td>1.21</td>\n",
       "      <td>0</td>\n",
       "    </tr>\n",
       "    <tr>\n",
       "      <th>3</th>\n",
       "      <td>4243</td>\n",
       "      <td>TRAIN_4243</td>\n",
       "      <td>60</td>\n",
       "      <td>170</td>\n",
       "      <td>80</td>\n",
       "      <td>27.68000</td>\n",
       "      <td>1.00</td>\n",
       "      <td>0</td>\n",
       "      <td>114</td>\n",
       "      <td>39</td>\n",
       "      <td>128</td>\n",
       "      <td>1.4</td>\n",
       "      <td>98</td>\n",
       "      <td>53</td>\n",
       "      <td>19.0</td>\n",
       "      <td>16.0</td>\n",
       "      <td>1</td>\n",
       "      <td>1.35</td>\n",
       "      <td>1</td>\n",
       "    </tr>\n",
       "    <tr>\n",
       "      <th>4</th>\n",
       "      <td>5803</td>\n",
       "      <td>TRAIN_5803</td>\n",
       "      <td>60</td>\n",
       "      <td>165</td>\n",
       "      <td>55</td>\n",
       "      <td>20.20000</td>\n",
       "      <td>0.85</td>\n",
       "      <td>1</td>\n",
       "      <td>138</td>\n",
       "      <td>48</td>\n",
       "      <td>110</td>\n",
       "      <td>0.9</td>\n",
       "      <td>98</td>\n",
       "      <td>50</td>\n",
       "      <td>26.0</td>\n",
       "      <td>14.9</td>\n",
       "      <td>1</td>\n",
       "      <td>0.82</td>\n",
       "      <td>0</td>\n",
       "    </tr>\n",
       "  </tbody>\n",
       "</table>\n",
       "</div>"
      ],
      "text/plain": [
       "   Unnamed: 0          ID  나이  키(cm)  몸무게(kg)       BMI    시력  충치  공복 혈당  혈압  \\\n",
       "0        2693  TRAIN_2693  35    165       60  22.04000  1.10   0     86  30   \n",
       "1        1527  TRAIN_1527  60    175       85  27.76000  0.90   0    105  60   \n",
       "2        2664  TRAIN_2664  85    145       40  19.02497  0.25   0     93  40   \n",
       "3        4243  TRAIN_4243  60    170       80  27.68000  1.00   0    114  39   \n",
       "4        5803  TRAIN_5803  60    165       55  20.20000  0.85   1    138  48   \n",
       "\n",
       "   중성 지방  혈청 크레아티닌  콜레스테롤  고밀도지단백  저밀도지단백  헤모글로빈  요 단백  간 효소율  label  \n",
       "0     51       0.9     86      37    38.0   15.3     1   0.75      1  \n",
       "1     88       0.9     97      41    48.0   15.0     1   1.00      1  \n",
       "2     53       1.1     98      46    41.0   10.1     1   1.21      0  \n",
       "3    128       1.4     98      53    19.0   16.0     1   1.35      1  \n",
       "4    110       0.9     98      50    26.0   14.9     1   0.82      0  "
      ]
     },
     "execution_count": 16,
     "metadata": {},
     "output_type": "execute_result"
    }
   ],
   "source": [
    "train_df.head()"
   ]
  },
  {
   "cell_type": "code",
   "execution_count": 17,
   "id": "b591539b-d9b7-4d58-a9ed-e8b192982819",
   "metadata": {},
   "outputs": [
    {
     "data": {
      "image/png": "[encoded data removed]",
      "text/plain": [
       "<Figure size 1200x900 with 1 Axes>"
      ]
     },
     "metadata": {},
     "output_type": "display_data"
    }
   ],
   "source": [
    "import matplotlib.pyplot as plt\n",
    "plt.rc('font', family='Malgun Gothic') #맑은 고딕으로 설정\n",
    "plt.rcParams['axes.unicode_minus'] = False #부호\n",
    "\n",
    "plt.rcParams['figure.figsize'] = (12, 9)\n",
    "plt.rcParams['font.size'] = 5\n",
    "\n",
    "train_df.boxplot()\n",
    "plt.show()"
   ]
  },
  {
   "cell_type": "code",
   "execution_count": 30,
   "id": "ac94299a-190b-4d7d-8e88-cb6ec05002c5",
   "metadata": {},
   "outputs": [],
   "source": [
    "# 이상치라고 할 만한게 없다고 판단하여 이상치 처리는 생략."
   ]
  },
  {
   "cell_type": "code",
   "execution_count": 18,
   "id": "6ea8a94d-1432-4cb5-b0f9-265bfdc5e52b",
   "metadata": {},
   "outputs": [],
   "source": [
    "from sklearn.preprocessing import OneHotEncoder\n",
    "from sklearn.compose import make_column_transformer\n",
    "from sklearn.tree import DecisionTreeRegressor\n",
    "from sklearn.pipeline import make_pipeline\n",
    "train_df = pd.read_csv('./data./train_filled_1.csv')\n",
    "test_df = pd.read_csv('./data/test_practice.csv')"
   ]
  },
  {
   "cell_type": "code",
   "execution_count": 19,
   "id": "a5f487e8-c785-44d9-ab31-d7c3245b1eb7",
   "metadata": {},
   "outputs": [
    {
     "data": {
      "text/plain": [
       "(5000, 19)"
      ]
     },
     "execution_count": 19,
     "metadata": {},
     "output_type": "execute_result"
    }
   ],
   "source": [
    "train_df.shape"
   ]
  },
  {
   "cell_type": "code",
   "execution_count": 20,
   "id": "41459afc-0a63-4beb-849e-4b8da582b77c",
   "metadata": {},
   "outputs": [
    {
     "data": {
      "text/plain": [
       "(2000, 18)"
      ]
     },
     "execution_count": 20,
     "metadata": {},
     "output_type": "execute_result"
    }
   ],
   "source": [
    "test_df.shape"
   ]
  },
  {
   "cell_type": "code",
   "execution_count": 21,
   "id": "9fab310d-ec46-4469-bb8f-9f01934bfbf2",
   "metadata": {},
   "outputs": [
    {
     "name": "stdout",
     "output_type": "stream",
     "text": [
      "훈련 데이터 샘플 수: 5000\n",
      "테스트 데이터 샘플 수: 2000\n"
     ]
    }
   ],
   "source": [
    "print(f\"훈련 데이터 샘플 수: {train_df.shape[0]}\")\n",
    "print(f\"테스트 데이터 샘플 수: {test_df.shape[0]}\")"
   ]
  },
  {
   "cell_type": "code",
   "execution_count": 22,
   "id": "e449f8e1-c312-4eee-b832-fb002a5bb7a9",
   "metadata": {},
   "outputs": [
    {
     "data": {
      "text/html": [
       "<div>\n",
       "<style scoped>\n",
       "    .dataframe tbody tr th:only-of-type {\n",
       "        vertical-align: middle;\n",
       "    }\n",
       "\n",
       "    .dataframe tbody tr th {\n",
       "        vertical-align: top;\n",
       "    }\n",
       "\n",
       "    .dataframe thead th {\n",
       "        text-align: right;\n",
       "    }\n",
       "</style>\n",
       "<table border=\"1\" class=\"dataframe\">\n",
       "  <thead>\n",
       "    <tr style=\"text-align: right;\">\n",
       "      <th></th>\n",
       "      <th>Unnamed: 0</th>\n",
       "      <th>ID</th>\n",
       "      <th>나이</th>\n",
       "      <th>키(cm)</th>\n",
       "      <th>몸무게(kg)</th>\n",
       "      <th>BMI</th>\n",
       "      <th>시력</th>\n",
       "      <th>충치</th>\n",
       "      <th>공복 혈당</th>\n",
       "      <th>혈압</th>\n",
       "      <th>중성 지방</th>\n",
       "      <th>혈청 크레아티닌</th>\n",
       "      <th>콜레스테롤</th>\n",
       "      <th>고밀도지단백</th>\n",
       "      <th>저밀도지단백</th>\n",
       "      <th>헤모글로빈</th>\n",
       "      <th>요 단백</th>\n",
       "      <th>간 효소율</th>\n",
       "    </tr>\n",
       "  </thead>\n",
       "  <tbody>\n",
       "    <tr>\n",
       "      <th>0</th>\n",
       "      <td>1156</td>\n",
       "      <td>TRAIN_1156</td>\n",
       "      <td>55</td>\n",
       "      <td>155</td>\n",
       "      <td>55</td>\n",
       "      <td>22.89</td>\n",
       "      <td>0.85</td>\n",
       "      <td>0</td>\n",
       "      <td>142</td>\n",
       "      <td>26</td>\n",
       "      <td>89</td>\n",
       "      <td>0.7</td>\n",
       "      <td>201</td>\n",
       "      <td>49</td>\n",
       "      <td>134.0</td>\n",
       "      <td>13.0</td>\n",
       "      <td>1</td>\n",
       "      <td>1.05</td>\n",
       "    </tr>\n",
       "    <tr>\n",
       "      <th>1</th>\n",
       "      <td>5398</td>\n",
       "      <td>TRAIN_5398</td>\n",
       "      <td>45</td>\n",
       "      <td>160</td>\n",
       "      <td>55</td>\n",
       "      <td>21.48</td>\n",
       "      <td>1.10</td>\n",
       "      <td>0</td>\n",
       "      <td>99</td>\n",
       "      <td>47</td>\n",
       "      <td>38</td>\n",
       "      <td>0.7</td>\n",
       "      <td>215</td>\n",
       "      <td>83</td>\n",
       "      <td>124.0</td>\n",
       "      <td>13.9</td>\n",
       "      <td>1</td>\n",
       "      <td>1.50</td>\n",
       "    </tr>\n",
       "    <tr>\n",
       "      <th>2</th>\n",
       "      <td>4007</td>\n",
       "      <td>TRAIN_4007</td>\n",
       "      <td>50</td>\n",
       "      <td>165</td>\n",
       "      <td>60</td>\n",
       "      <td>22.04</td>\n",
       "      <td>0.90</td>\n",
       "      <td>0</td>\n",
       "      <td>119</td>\n",
       "      <td>34</td>\n",
       "      <td>145</td>\n",
       "      <td>0.5</td>\n",
       "      <td>176</td>\n",
       "      <td>72</td>\n",
       "      <td>75.0</td>\n",
       "      <td>14.6</td>\n",
       "      <td>1</td>\n",
       "      <td>1.43</td>\n",
       "    </tr>\n",
       "    <tr>\n",
       "      <th>3</th>\n",
       "      <td>3571</td>\n",
       "      <td>TRAIN_3571</td>\n",
       "      <td>40</td>\n",
       "      <td>160</td>\n",
       "      <td>55</td>\n",
       "      <td>21.48</td>\n",
       "      <td>1.00</td>\n",
       "      <td>0</td>\n",
       "      <td>87</td>\n",
       "      <td>39</td>\n",
       "      <td>84</td>\n",
       "      <td>0.7</td>\n",
       "      <td>172</td>\n",
       "      <td>53</td>\n",
       "      <td>NaN</td>\n",
       "      <td>12.6</td>\n",
       "      <td>1</td>\n",
       "      <td>2.57</td>\n",
       "    </tr>\n",
       "    <tr>\n",
       "      <th>4</th>\n",
       "      <td>6169</td>\n",
       "      <td>TRAIN_6169</td>\n",
       "      <td>30</td>\n",
       "      <td>175</td>\n",
       "      <td>95</td>\n",
       "      <td>31.02</td>\n",
       "      <td>1.50</td>\n",
       "      <td>0</td>\n",
       "      <td>90</td>\n",
       "      <td>44</td>\n",
       "      <td>197</td>\n",
       "      <td>1.1</td>\n",
       "      <td>233</td>\n",
       "      <td>49</td>\n",
       "      <td>154.0</td>\n",
       "      <td>16.4</td>\n",
       "      <td>1</td>\n",
       "      <td>0.67</td>\n",
       "    </tr>\n",
       "  </tbody>\n",
       "</table>\n",
       "</div>"
      ],
      "text/plain": [
       "   Unnamed: 0          ID  나이  키(cm)  몸무게(kg)    BMI    시력  충치  공복 혈당  혈압  \\\n",
       "0        1156  TRAIN_1156  55    155       55  22.89  0.85   0    142  26   \n",
       "1        5398  TRAIN_5398  45    160       55  21.48  1.10   0     99  47   \n",
       "2        4007  TRAIN_4007  50    165       60  22.04  0.90   0    119  34   \n",
       "3        3571  TRAIN_3571  40    160       55  21.48  1.00   0     87  39   \n",
       "4        6169  TRAIN_6169  30    175       95  31.02  1.50   0     90  44   \n",
       "\n",
       "   중성 지방  혈청 크레아티닌  콜레스테롤  고밀도지단백  저밀도지단백  헤모글로빈  요 단백  간 효소율  \n",
       "0     89       0.7    201      49   134.0   13.0     1   1.05  \n",
       "1     38       0.7    215      83   124.0   13.9     1   1.50  \n",
       "2    145       0.5    176      72    75.0   14.6     1   1.43  \n",
       "3     84       0.7    172      53     NaN   12.6     1   2.57  \n",
       "4    197       1.1    233      49   154.0   16.4     1   0.67  "
      ]
     },
     "execution_count": 22,
     "metadata": {},
     "output_type": "execute_result"
    }
   ],
   "source": [
    "test_df.head()"
   ]
  },
  {
   "cell_type": "code",
   "execution_count": 23,
   "id": "c4d88bf3-5955-4a1a-af4e-1f03e4a47052",
   "metadata": {},
   "outputs": [],
   "source": [
    "from sklearn.metrics import r2_score\n",
    "from sklearn.metrics import mean_squared_error\n",
    "from sklearn.metrics import mean_absolute_error\n",
    "from sklearn.metrics import mean_squared_log_error\n",
    "\n",
    "def evaluate_reg_all(y_test, y_predict):\n",
    "    MSE = mean_squared_error(y_test, y_predict, squared=True)\n",
    "    RMSE = mean_squared_error(y_test, y_predict,squared=False)\n",
    "    MAE = mean_absolute_error(y_test, y_predict)\n",
    "    R2 = r2_score(y_test, y_predict)\n",
    "\n",
    "    print(f'MSE: {MSE:.3f}, RMSE: {RMSE:.3F}, MAE: {MAE:.3F}, R^2: {R2:.3F}')"
   ]
  },
  {
   "cell_type": "code",
   "execution_count": 26,
   "id": "6f959d95-6ac9-4a23-b815-b0c089186823",
   "metadata": {},
   "outputs": [
    {
     "name": "stdout",
     "output_type": "stream",
     "text": [
      "훈련_R2: 0.23488065018472704\n",
      "테스트_R2: 0.25843428985516437\n",
      "MSE: 0.174, RMSE: 0.417, MAE: 0.348, R^2: 0.258\n"
     ]
    }
   ],
   "source": [
    "from sklearn.tree import DecisionTreeClassifier\n",
    "from sklearn.model_selection import train_test_split\n",
    "\n",
    "x_data = train_df.drop(columns=['Unnamed: 0','ID','label'], axis=1)\n",
    "y_data = train_df['label']\n",
    "\n",
    "x_train, x_test, y_train, y_test = train_test_split(x_data, y_data, test_size=0.3, random_state=42)\n",
    "\n",
    "model = DecisionTreeRegressor(random_state=42, max_depth=3)\n",
    "model.fit(x_train, y_train)\n",
    "\n",
    "print(f'훈련_R2: {model.score(x_train, y_train)}') \n",
    "print(f'테스트_R2: {model.score(x_test, y_test)}')\n",
    "\n",
    "# x_test = test_df.drop(columns=['ID'], axis=1)\n",
    "# x_real_df = pd.DataFrame(x_test)\n",
    "# y_predict = model.predict(x_real_df)\n",
    "# print(f'테스트_R2: {model.score(x_test, y_predict)}')\n",
    "y_predict = model.predict(x_test)\n",
    "evaluate_reg_all(y_test, y_predict)"
   ]
  },
  {
   "cell_type": "code",
   "execution_count": null,
   "id": "493b0ad0-cdd4-41f0-9e90-042e327ff8dd",
   "metadata": {},
   "outputs": [],
   "source": []
  }
 ],
 "metadata": {
  "kernelspec": {
   "display_name": "Python 3 (ipykernel)",
   "language": "python",
   "name": "python3"
  },
  "language_info": {
   "codemirror_mode": {
    "name": "ipython",
    "version": 3
   },
   "file_extension": ".py",
   "mimetype": "text/x-python",
   "name": "python",
   "nbconvert_exporter": "python",
   "pygments_lexer": "ipython3",
   "version": "3.11.4"
  }
 },
 "nbformat": 4,
 "nbformat_minor": 5
}
